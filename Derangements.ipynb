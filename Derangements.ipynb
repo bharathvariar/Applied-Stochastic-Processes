{
  "nbformat": 4,
  "nbformat_minor": 0,
  "metadata": {
    "colab": {
      "provenance": [],
      "collapsed_sections": [],
      "authorship_tag": "ABX9TyO/98lU+HpmuU/O6RJrpVAx",
      "include_colab_link": true
    },
    "kernelspec": {
      "name": "python3",
      "display_name": "Python 3"
    },
    "language_info": {
      "name": "python"
    }
  },
  "cells": [
    {
      "cell_type": "markdown",
      "metadata": {
        "id": "view-in-github",
        "colab_type": "text"
      },
      "source": [
        "<a href=\"https://colab.research.google.com/github/bharathvariar/Derangements/blob/main/Derangements.ipynb\" target=\"_parent\"><img src=\"https://colab.research.google.com/assets/colab-badge.svg\" alt=\"Open In Colab\"/></a>"
      ]
    },
    {
      "cell_type": "code",
      "execution_count": null,
      "metadata": {
        "id": "vmR9PAgFbkdQ"
      },
      "outputs": [],
      "source": [
        "import numpy as np\n",
        "import matplotlib.pyplot as plt"
      ]
    },
    {
      "cell_type": "code",
      "source": [
        "def factorial(n):\n",
        "    if (n == 0) : return 1\n",
        "    return n * factorial(n-1)"
      ],
      "metadata": {
        "id": "bCAFkFZIcjOF"
      },
      "execution_count": null,
      "outputs": []
    },
    {
      "cell_type": "code",
      "source": [
        "def derangements(n):\n",
        "    factorial_arr = []\n",
        "    for i in range(n+1):\n",
        "       factorial_arr.append(factorial(i)) \n",
        "    num_derangements = 0\n",
        "    sign = 1\n",
        "    for i in range(n+1):\n",
        "        num = sign / factorial_arr[i]\n",
        "        num_derangements += num\n",
        "        sign *= -1\n",
        "    num_derangements *= factorial_arr[-1]\n",
        "    return int(num_derangements)"
      ],
      "metadata": {
        "id": "ssgCC0STOjQY"
      },
      "execution_count": null,
      "outputs": []
    },
    {
      "cell_type": "code",
      "source": [
        "for i in range(21):\n",
        "    print(f\"D({i}) = {derangements(i)}\")"
      ],
      "metadata": {
        "colab": {
          "base_uri": "https://localhost:8080/"
        },
        "id": "VzIeBoj3aWup",
        "outputId": "339431d5-735a-4f8c-e485-7b35086b23c6"
      },
      "execution_count": null,
      "outputs": [
        {
          "output_type": "stream",
          "name": "stdout",
          "text": [
            "D(0) = 1\n",
            "D(1) = 0\n",
            "D(2) = 1\n",
            "D(3) = 2\n",
            "D(4) = 9\n",
            "D(5) = 44\n",
            "D(6) = 265\n",
            "D(7) = 1854\n",
            "D(8) = 14833\n",
            "D(9) = 133496\n",
            "D(10) = 1334961\n",
            "D(11) = 14684570\n",
            "D(12) = 176214841\n",
            "D(13) = 2290792932\n",
            "D(14) = 32071101049\n",
            "D(15) = 481066515734\n",
            "D(16) = 7697064251745\n",
            "D(17) = 130850092279664\n",
            "D(18) = 2355301661033953\n",
            "D(19) = 44750731559645120\n",
            "D(20) = 895014631192902400\n"
          ]
        }
      ]
    },
    {
      "cell_type": "code",
      "source": [],
      "metadata": {
        "id": "qhcdYUC0aikW"
      },
      "execution_count": null,
      "outputs": []
    }
  ]
}