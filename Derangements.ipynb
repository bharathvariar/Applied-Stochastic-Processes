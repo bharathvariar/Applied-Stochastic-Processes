{
  "nbformat": 4,
  "nbformat_minor": 0,
  "metadata": {
    "colab": {
      "provenance": [],
      "collapsed_sections": [],
      "authorship_tag": "ABX9TyPsOnpvC4WOrOynxnxz3Rrf",
      "include_colab_link": true
    },
    "kernelspec": {
      "name": "python3",
      "display_name": "Python 3"
    },
    "language_info": {
      "name": "python"
    }
  },
  "cells": [
    {
      "cell_type": "markdown",
      "metadata": {
        "id": "view-in-github",
        "colab_type": "text"
      },
      "source": [
        "<a href=\"https://colab.research.google.com/github/bharathvariar/Derangements/blob/main/Derangements.ipynb\" target=\"_parent\"><img src=\"https://colab.research.google.com/assets/colab-badge.svg\" alt=\"Open In Colab\"/></a>"
      ]
    },
    {
      "cell_type": "markdown",
      "source": [
        "# Derangement of n items\n"
      ],
      "metadata": {
        "id": "0Ty51cr7fUCK"
      }
    },
    {
      "cell_type": "markdown",
      "source": [
        "Importing the relvant libraries"
      ],
      "metadata": {
        "id": "ksjJ3QZgjv0z"
      }
    },
    {
      "cell_type": "code",
      "execution_count": null,
      "metadata": {
        "id": "vmR9PAgFbkdQ"
      },
      "outputs": [],
      "source": [
        "import numpy as np"
      ]
    },
    {
      "cell_type": "markdown",
      "source": [
        "Defining a simple recursive function, `factorial(n)` to calculate the factorial of a number"
      ],
      "metadata": {
        "id": "NfoXsDOKjzpG"
      }
    },
    {
      "cell_type": "code",
      "source": [
        "def factorial(n):\n",
        "    '''\n",
        "    input: non-zero integer (n)\n",
        "    output: n!\n",
        "    '''\n",
        "    if (n == 0) : return 1\n",
        "    return n * factorial(n-1)"
      ],
      "metadata": {
        "id": "bCAFkFZIcjOF"
      },
      "execution_count": null,
      "outputs": []
    },
    {
      "cell_type": "markdown",
      "source": [
        "Now, to write an algorithm that computes the derangment number for any integer.\n",
        "\n",
        "Using the inclusion-exclusion principle, we derive the following formula:\n",
        "\n",
        "\\begin{equation}\n",
        "D(n) = n!\\left( 1 - \\frac{1}{1!} + \\frac{1}{2!} - ... + \\frac{(-1)^{n}}{n!} \\right) \\tag{1}\n",
        "\\end{equation}\n",
        "\n",
        "The function `derangements(n)` uses the `factorial(n)` defined above to create an array `factorial_arr` that stores the factorial values of all numbers upto `n`."
      ],
      "metadata": {
        "id": "xRMv50OikIWQ"
      }
    },
    {
      "cell_type": "code",
      "source": [
        "def derangements(n):\n",
        "    factorial_arr = []\n",
        "    for i in range(n+1):\n",
        "       factorial_arr.append(factorial(i)) \n",
        "    num_derangements = 0\n",
        "    sign = 1\n",
        "    for i in range(n+1):\n",
        "        num = sign / factorial_arr[i]\n",
        "        num_derangements += num\n",
        "        sign *= -1\n",
        "    num_derangements *= factorial_arr[-1]\n",
        "    return int(num_derangements)"
      ],
      "metadata": {
        "id": "ssgCC0STOjQY"
      },
      "execution_count": null,
      "outputs": []
    },
    {
      "cell_type": "markdown",
      "source": [
        "It should be noted that there are errors in the above algorithms as we reach $D(18)$. These errors arise due to limited capacity of commputers to store small floating point numbers $((18!)^{-1} → 10^{-16})$. While these errors are small, they are magnified as we multiply them with a large number (such as 18!) causing an insignificant, yet non-zero error."
      ],
      "metadata": {
        "id": "nMl21OWPtP9q"
      }
    },
    {
      "cell_type": "code",
      "source": [
        "for i in range(21):\n",
        "    print(f\"D({i}) = {derangements(i)}\")"
      ],
      "metadata": {
        "colab": {
          "base_uri": "https://localhost:8080/"
        },
        "id": "VzIeBoj3aWup",
        "outputId": "60d24bc4-8542-4aeb-b649-bcefb07ffa32"
      },
      "execution_count": null,
      "outputs": [
        {
          "output_type": "stream",
          "name": "stdout",
          "text": [
            "D(0) = 1\n",
            "D(1) = 0\n",
            "D(2) = 1\n",
            "D(3) = 2\n",
            "D(4) = 9\n",
            "D(5) = 44\n",
            "D(6) = 265\n",
            "D(7) = 1854\n",
            "D(8) = 14833\n",
            "D(9) = 133496\n",
            "D(10) = 1334961\n",
            "D(11) = 14684570\n",
            "D(12) = 176214841\n",
            "D(13) = 2290792932\n",
            "D(14) = 32071101049\n",
            "D(15) = 481066515734\n",
            "D(16) = 7697064251745\n",
            "D(17) = 130850092279664\n",
            "D(18) = 2355301661033953\n",
            "D(19) = 44750731559645120\n",
            "D(20) = 895014631192902400\n"
          ]
        }
      ]
    },
    {
      "cell_type": "code",
      "source": [
        "def recursive_derangements(n):\n",
        "    if (n == 0): return 1\n",
        "    if (n == 1): return 0\n",
        "    return ((n-1)* (recursive_derangements(n-1) + recursive_derangements(n-2)))"
      ],
      "metadata": {
        "id": "qhcdYUC0aikW"
      },
      "execution_count": null,
      "outputs": []
    },
    {
      "cell_type": "code",
      "source": [
        "for i in range(21):\n",
        "    print(f\"D({i}) = {recursive_derangements(i)}\")"
      ],
      "metadata": {
        "colab": {
          "base_uri": "https://localhost:8080/"
        },
        "id": "iWp3842Ie6AE",
        "outputId": "39e09d34-b9a9-45ad-c6cf-2790a4af7c20"
      },
      "execution_count": null,
      "outputs": [
        {
          "output_type": "stream",
          "name": "stdout",
          "text": [
            "D(0) = 1\n",
            "D(1) = 0\n",
            "D(2) = 1\n",
            "D(3) = 2\n",
            "D(4) = 9\n",
            "D(5) = 44\n",
            "D(6) = 265\n",
            "D(7) = 1854\n",
            "D(8) = 14833\n",
            "D(9) = 133496\n",
            "D(10) = 1334961\n",
            "D(11) = 14684570\n",
            "D(12) = 176214841\n",
            "D(13) = 2290792932\n",
            "D(14) = 32071101049\n",
            "D(15) = 481066515734\n",
            "D(16) = 7697064251745\n",
            "D(17) = 130850092279664\n",
            "D(18) = 2355301661033953\n",
            "D(19) = 44750731559645106\n",
            "D(20) = 895014631192902121\n"
          ]
        }
      ]
    },
    {
      "cell_type": "markdown",
      "source": [
        "An interesting relationship between derangment number, $D(n)$ and $n!$ can be observed if we manipulate equation (1).\n",
        "We know:\n",
        "\n",
        "\\begin{equation}\n",
        "e^x = 1 + x + \\frac{x^2}{2!} + \\frac{x^3}{3!} + ... \\tag{2}\n",
        "\\end{equation}\n",
        "\n",
        "Therefore,\n",
        "\n",
        "\\begin{equation}\n",
        "e^{-x} = 1 - x + \\frac{x^2}{2!} - \\frac{x^3}{3!} + ... \\tag{3}\n",
        "\\end{equation}\n",
        "\n",
        "By substituting $x = 1$ in equation (3), and comparing with equation (1) we get, for large $n$:\n",
        "\n",
        "\\begin{equation}\n",
        "D(n) = n! \\times e^{-1}\n",
        "\\end{equation}\n",
        "\n",
        "Thus obtaining a relation between $D(n)$ and $n!$ given as:\n",
        "\n",
        "\\begin{equation}\n",
        "\\frac{n!}{D(n)} → e \\tag{4}\n",
        "\\end{equation}\n",
        "\n",
        "Thus convergence can be seen clearly using the programs I have defined above in the following cell:"
      ],
      "metadata": {
        "id": "GwPjPI-loczA"
      }
    },
    {
      "cell_type": "code",
      "source": [
        "for i in range(21):\n",
        "    if (i != 1): #ommiting 1!/D(1) as D(1) = 0\n",
        "        print(f\"{i}!/D({i}) = {factorial(i)/recursive_derangements(i)}\")\n",
        "print (\"e = 2.718281828459045 (upto 15 decimal places)\")"
      ],
      "metadata": {
        "colab": {
          "base_uri": "https://localhost:8080/"
        },
        "id": "5xYlwCo8mpbL",
        "outputId": "da561c3d-c73d-4267-fd64-276c43f3f2a9"
      },
      "execution_count": 15,
      "outputs": [
        {
          "output_type": "stream",
          "name": "stdout",
          "text": [
            "0!/D(0) = 1.0\n",
            "2!/D(2) = 2.0\n",
            "3!/D(3) = 3.0\n",
            "4!/D(4) = 2.6666666666666665\n",
            "5!/D(5) = 2.727272727272727\n",
            "6!/D(6) = 2.7169811320754715\n",
            "7!/D(7) = 2.7184466019417477\n",
            "8!/D(8) = 2.7182633317602645\n",
            "9!/D(9) = 2.71828369389345\n",
            "10!/D(10) = 2.7182816576664037\n",
            "11!/D(11) = 2.7182818427778273\n",
            "12!/D(12) = 2.7182818273518743\n",
            "13!/D(13) = 2.718281828538486\n",
            "14!/D(14) = 2.718281828453728\n",
            "15!/D(15) = 2.7182818284593786\n",
            "16!/D(16) = 2.7182818284590256\n",
            "17!/D(17) = 2.7182818284590464\n",
            "18!/D(18) = 2.718281828459045\n",
            "19!/D(19) = 2.718281828459045\n",
            "20!/D(20) = 2.718281828459045\n",
            "e = 2.718281828459045 (upto 15 decimal places)\n"
          ]
        }
      ]
    }
  ]
}