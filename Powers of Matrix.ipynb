{
 "cells": [
  {
   "cell_type": "markdown",
   "id": "bb970f34",
   "metadata": {},
   "source": [
    "# Matrices, their Null Spaces and Regular Markov Chains\n",
    "#### Bharath Variar, 2019B5A70930H"
   ]
  },
  {
   "cell_type": "markdown",
   "id": "5474661c",
   "metadata": {},
   "source": [
    "## Importing Libraries"
   ]
  },
  {
   "cell_type": "code",
   "execution_count": 1,
   "id": "4fca2afa",
   "metadata": {},
   "outputs": [],
   "source": [
    "import numpy as np\n",
    "from sympy import *"
   ]
  },
  {
   "cell_type": "markdown",
   "id": "6e0cfee7",
   "metadata": {},
   "source": [
    "## Powers of a Matrix"
   ]
  },
  {
   "cell_type": "markdown",
   "id": "c188665d",
   "metadata": {},
   "source": [
    "### Defining functions"
   ]
  },
  {
   "cell_type": "code",
   "execution_count": 2,
   "id": "319a8570",
   "metadata": {},
   "outputs": [],
   "source": [
    "def matrix_multiply(matA, matB):\n",
    "    \"\"\"\n",
    "    Returns the product of 2 matrics\n",
    "    i/p: The two matrices to be multipled matA(n1 x n2), matB(n3 x n4)\n",
    "    o/p: If n2 == n4: returns n1 x n4 product matrix\n",
    "         else: returns -1\n",
    "    \"\"\"\n",
    "    if matA.shape[1] != matB.shape[0]:\n",
    "        print(\"Matrix multiplication invalid\")\n",
    "        return -1\n",
    "    else:\n",
    "        result_mat = np.zeros((matA.shape[0], matB.shape[1]))\n",
    "        for i in range(matA.shape[0]):  # matA.shape[0] = number of rows\n",
    "            row = matA[i]\n",
    "            for j in range(matB.shape[1]):  # matB.shape[1] = number of columns\n",
    "                col = matB[:, j]\n",
    "                dot = 0\n",
    "                for k in range(len(row)):\n",
    "                    dot += row[k] * col[k]\n",
    "                result_mat[i][j] = dot\n",
    "        return result_mat"
   ]
  },
  {
   "cell_type": "code",
   "execution_count": 3,
   "id": "f84cb7d2",
   "metadata": {},
   "outputs": [],
   "source": [
    "def matrix_power(matA, power):\n",
    "    \"\"\"\n",
    "    Returns the input matrix raised to the power 'power'\n",
    "    i/p: Matrix matA(n1 x n2), and integer power\n",
    "    o/p: If n1 == n2 and power is an integer: Returns matA^power\n",
    "         else: returns -1\n",
    "    \"\"\"\n",
    "    if type(power) is not int:\n",
    "        print(\"Power is not a valid integer\")\n",
    "        return -1\n",
    "    result_mat = matA\n",
    "    for i in range(power - 1):\n",
    "        result_mat = matrix_multiply(result_mat, matA)\n",
    "        if type(result_mat) is int:\n",
    "            return -1\n",
    "    return result_mat"
   ]
  },
  {
   "cell_type": "markdown",
   "id": "60dbeb79",
   "metadata": {},
   "source": [
    "### Implementation"
   ]
  },
  {
   "cell_type": "code",
   "execution_count": 4,
   "id": "fb28ff07",
   "metadata": {},
   "outputs": [
    {
     "name": "stdout",
     "output_type": "stream",
     "text": [
      "matA:\n",
      " [[6 5 4]\n",
      " [2 4 6]\n",
      " [4 6 1]]\n",
      "matB:\n",
      " [[7 4 5 9 7]\n",
      " [9 8 3 0 5]\n",
      " [7 0 5 3 8]]\n"
     ]
    }
   ],
   "source": [
    "A = np.random.randint(10, size=(3, 3))\n",
    "print(f\"matA:\\n {A}\")\n",
    "B = np.random.randint(10, size=(3, 5))\n",
    "print(f\"matB:\\n {B}\")"
   ]
  },
  {
   "cell_type": "code",
   "execution_count": 5,
   "id": "b2fb1bba",
   "metadata": {
    "scrolled": true
   },
   "outputs": [
    {
     "name": "stdout",
     "output_type": "stream",
     "text": [
      "matA x matB: \n",
      "[[115.  64.  65.  66.  99.]\n",
      " [ 92.  40.  52.  36.  82.]\n",
      " [ 89.  64.  43.  39.  66.]]\n"
     ]
    }
   ],
   "source": [
    "print(f'matA x matB: \\n{matrix_multiply(A, B)}')"
   ]
  },
  {
   "cell_type": "code",
   "execution_count": 6,
   "id": "23e91b5c",
   "metadata": {},
   "outputs": [
    {
     "name": "stdout",
     "output_type": "stream",
     "text": [
      "(matA)^3: \n",
      "[[752. 954. 750.]\n",
      " [540. 696. 586.]\n",
      " [552. 718. 513.]]\n"
     ]
    }
   ],
   "source": [
    "print(f\"(matA)^3: \\n{matrix_power(A, 3)}\")"
   ]
  },
  {
   "cell_type": "markdown",
   "id": "6b9bca48",
   "metadata": {},
   "source": [
    "## Regular Markov Chain as a Matrix"
   ]
  },
  {
   "cell_type": "code",
   "execution_count": 7,
   "id": "0ff6e3e3",
   "metadata": {},
   "outputs": [],
   "source": [
    "def create_stochastic_matrix(size):\n",
    "    mat = np.zeros((size, size))\n",
    "    for i in range(size):\n",
    "        row_sum = 0\n",
    "        for j in range(size - 1):\n",
    "            mat[i][j] = np.random.uniform(0, (1 - row_sum))\n",
    "            row_sum += mat[i][j]\n",
    "        mat[i][-1] = 1 - row_sum\n",
    "    return mat"
   ]
  },
  {
   "cell_type": "code",
   "execution_count": 8,
   "id": "35743bf3",
   "metadata": {},
   "outputs": [],
   "source": [
    "def check_regular_matrix(matA, iterations= 1000):\n",
    "    for i in range (1, iterations + 1):\n",
    "        mat = matrix_power(matA, i)\n",
    "        if (type(mat) == int): return -1 # matrix_power() returns -1 if error\n",
    "        mat_size = len(mat) # Matrix has to be a square\n",
    "        count = 0\n",
    "        for j in range(mat_size):\n",
    "            for k in range(mat_size):\n",
    "                if (mat[j][k] == 0): \n",
    "                    break\n",
    "                else: \n",
    "                    count += 1\n",
    "        if (count == (mat_size ** 2)): \n",
    "            print(f\"The matrix is regular, and when it is raised to power {i}, it is positive.\")\n",
    "            break\n",
    "        else:\n",
    "            print(f\"The matrix is not regular upto its {i}th power\", end = '\\r')\n",
    "    return"
   ]
  },
  {
   "cell_type": "code",
   "execution_count": 9,
   "id": "eb255068",
   "metadata": {
    "scrolled": true
   },
   "outputs": [
    {
     "name": "stdout",
     "output_type": "stream",
     "text": [
      "MatC: \n",
      "[[0.7 0.  0.3]\n",
      " [0.  1.  0. ]\n",
      " [0.2 0.  0.8]]\n",
      "The matrix is not regular upto its 1000th power\r"
     ]
    }
   ],
   "source": [
    "C = np.array([[0.7, 0, 0.3], [0, 1, 0], [0.2, 0, 0.8]]).reshape(3, -1)\n",
    "print(f\"MatC: \\n{C}\")\n",
    "check_regular_matrix(C, 1000)"
   ]
  },
  {
   "cell_type": "code",
   "execution_count": 10,
   "id": "3903b5a8",
   "metadata": {
    "scrolled": false
   },
   "outputs": [
    {
     "name": "stdout",
     "output_type": "stream",
     "text": [
      "[[0.83704918 0.01640369 0.01560049 0.13094664]\n",
      " [0.52126022 0.11864689 0.03016439 0.3299285 ]\n",
      " [0.63595154 0.15285163 0.06243431 0.14876252]\n",
      " [0.46937595 0.37644008 0.12789398 0.02629   ]]\n",
      "\n",
      "[[0.45115462 0.40632942 0.12828932 0.01422664]\n",
      " [0.94907791 0.03145267 0.01484003 0.00462939]\n",
      " [0.11336622 0.14480769 0.72540452 0.01642156]\n",
      " [0.52348111 0.05133453 0.33160788 0.09357649]]\n",
      "\n"
     ]
    }
   ],
   "source": [
    "# Debugging for validity of stochastic matrix\n",
    "# Generate two random stochastic matrices\n",
    "for i in range(2):\n",
    "    b = create_stochastic_matrix(4)\n",
    "    for i in range(4):\n",
    "        for j in range(4):\n",
    "            if (b[i][j] < 0 or b[i][j] > 1):\n",
    "                print(\"Not Valid Stochastic Matrix\")    \n",
    "    print(b)\n",
    "    print()"
   ]
  },
  {
   "cell_type": "markdown",
   "id": "409b2c13",
   "metadata": {},
   "source": [
    "## Null Space of a Matrix\n",
    "The null space of a matrix A is the same as the null space for its row reduced echelon form (rref(A))."
   ]
  },
  {
   "cell_type": "code",
   "execution_count": 11,
   "id": "7d548610",
   "metadata": {},
   "outputs": [],
   "source": [
    "def rref(matA):\n",
    "    rref = matA.copy()\n",
    "    pivot = 0\n",
    "    rows = len(rref)\n",
    "    cols = len(rref[0])\n",
    "    rank = 0\n",
    "    for r in range(rows):\n",
    "        if (cols < pivot):\n",
    "            break\n",
    "        i = r\n",
    "        while (rref[i, pivot] == 0):\n",
    "            i += 1\n",
    "            if (rows == 1):\n",
    "                i = r\n",
    "                pivot += 1\n",
    "                if (cols == pivot):\n",
    "                    break\n",
    "        vec = rref[i]\n",
    "        rref[i] = rref[r]\n",
    "        rref[r] = vec\n",
    "        if (rref[r][pivot] != 0):\n",
    "            rref[r] = rref[r] / rref[r][pivot]\n",
    "        for i in range(rows):\n",
    "            if (i != r):\n",
    "                rref[i] -= (rref[r]*rref[i][pivot]) \n",
    "        pivot += 1\n",
    "    for row in range(rows):\n",
    "        for col in range(cols):\n",
    "            if (rref[row][col] != 0):\n",
    "                rank += 1\n",
    "                break\n",
    "                \n",
    "    return rref, rank"
   ]
  },
  {
   "cell_type": "code",
   "execution_count": 12,
   "id": "14f25382",
   "metadata": {},
   "outputs": [
    {
     "name": "stdout",
     "output_type": "stream",
     "text": [
      "[[  1   2  -1  -4]\n",
      " [  2   3  -1 -11]\n",
      " [ -2   0  -3  22]]\n",
      "rref(E): \n",
      "[[ 1  0  0 -8]\n",
      " [ 0  1  0  1]\n",
      " [ 0  0  1 -2]]\n",
      "sympy.rref(): \n",
      "(Matrix([\n",
      "[1, 0, 0, -8],\n",
      "[0, 1, 0,  1],\n",
      "[0, 0, 1, -2]]), (0, 1, 2))\n"
     ]
    }
   ],
   "source": [
    "E = np.array([1, 2, -1, -4, 2, 3, -1, -11, -2, 0, -3, 22]).reshape(3, -1)\n",
    "print(E)\n",
    "rref_e, r = rref(E)\n",
    "print(f\"rref(E): \\n{rref_e}\")\n",
    "E = Matrix([[1, 2, -1, -4], [2, 3, -1, -11], [-2, 0, -3, 22]])\n",
    "print (f\"sympy.rref(): \\n{E.rref()}\")"
   ]
  },
  {
   "cell_type": "code",
   "execution_count": 13,
   "id": "dd4b3be3",
   "metadata": {},
   "outputs": [],
   "source": [
    "def gauss_elimination(mat):  \n",
    "    length = len(mat)  \n",
    "    vec = [0 for i in range(length)]  \n",
    "    for j in range(length - 1, -1, -1):  \n",
    "        vec[j] = mat[j][length] / mat[j][j]  \n",
    "        for k in range(j - 1, -1, -1):  \n",
    "            mat[k][length] -= mat[k][j] * vec[j]  \n",
    "    return vec"
   ]
  },
  {
   "cell_type": "code",
   "execution_count": 14,
   "id": "7581deea",
   "metadata": {},
   "outputs": [
    {
     "ename": "IndentationError",
     "evalue": "expected an indented block (1989762431.py, line 18)",
     "output_type": "error",
     "traceback": [
      "\u001b[1;36m  Input \u001b[1;32mIn [14]\u001b[1;36m\u001b[0m\n\u001b[1;33m    return np.linalg.solve(matA, np.zeros(len(matA[0])))\u001b[0m\n\u001b[1;37m    ^\u001b[0m\n\u001b[1;31mIndentationError\u001b[0m\u001b[1;31m:\u001b[0m expected an indented block\n"
     ]
    }
   ],
   "source": [
    "def null_space(matA):\n",
    "    '''\n",
    "    Finds null space of matrix in rref\n",
    "    matA.X = 0\n",
    "    '''\n",
    "    dimension = len(matA[0]) # number of columns\n",
    "    matA, rankA = rref(matA)\n",
    "    # Rank-nullity theorem\n",
    "    if (rankA == dimension):\n",
    "        np.zeros(dimension)\n",
    "    # rankA < dimensions\n",
    "    aug_mat = np.concatenate((matA, np.zeros((len(matA), 1))), axis = 1)\n",
    "    # Reducing the augmented matrix to rref, and obtaining their ranks\n",
    "    aug_mat, rank_aug = rref(aug_mat) \n",
    "    # rank(matA) == rank(aug_mat) since homogenous system\n",
    "    for i in range(dimensions - rankA):\n",
    "        \n",
    "    return np.linalg.solve(matA, np.zeros(len(matA[0])))"
   ]
  },
  {
   "cell_type": "code",
   "execution_count": null,
   "id": "a9995ce0",
   "metadata": {},
   "outputs": [],
   "source": [
    "F = np.array([[1, 0, 1, 3], [2, 3, 4, 7], [-1, -3, -3, -4]]).reshape(3, -1)\n",
    "print(f\"matF:\\n{F}\")\n",
    "null_space_F, r = rref(F)\n",
    "F = Matrix(F)\n",
    "print(f\"null_space(F): \\n {null_space_F}\")\n",
    "print(f\"F.nullspace(): \\n {F.rref()}\")"
   ]
  },
  {
   "cell_type": "code",
   "execution_count": null,
   "id": "2d03c466",
   "metadata": {},
   "outputs": [],
   "source": [
    "G = Matrix([[1, 2, -1, -4], [2, 3, -1, -11], [-2, 0, -3, 22]])\n",
    "print (G.rref())"
   ]
  },
  {
   "cell_type": "code",
   "execution_count": null,
   "id": "3dfa0443",
   "metadata": {},
   "outputs": [],
   "source": []
  }
 ],
 "metadata": {
  "kernelspec": {
   "display_name": "Python 3 (ipykernel)",
   "language": "python",
   "name": "python3"
  },
  "language_info": {
   "codemirror_mode": {
    "name": "ipython",
    "version": 3
   },
   "file_extension": ".py",
   "mimetype": "text/x-python",
   "name": "python",
   "nbconvert_exporter": "python",
   "pygments_lexer": "ipython3",
   "version": "3.8.12"
  }
 },
 "nbformat": 4,
 "nbformat_minor": 5
}
