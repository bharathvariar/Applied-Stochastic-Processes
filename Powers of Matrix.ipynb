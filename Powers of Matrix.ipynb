{
 "cells": [
  {
   "cell_type": "markdown",
   "id": "bb970f34",
   "metadata": {},
   "source": [
    "# Matrices, their Null Spaces and Regular Markov Chains\n",
    "#### Bharath Variar, 2019B5A70930H"
   ]
  },
  {
   "cell_type": "markdown",
   "id": "5474661c",
   "metadata": {},
   "source": [
    "## Importing Libraries"
   ]
  },
  {
   "cell_type": "code",
   "execution_count": 1,
   "id": "4fca2afa",
   "metadata": {},
   "outputs": [],
   "source": [
    "import numpy as np\n",
    "import sympy as sp"
   ]
  },
  {
   "cell_type": "markdown",
   "id": "6e0cfee7",
   "metadata": {},
   "source": [
    "## Powers of a Matrix"
   ]
  },
  {
   "cell_type": "markdown",
   "id": "c188665d",
   "metadata": {},
   "source": [
    "### Defining functions"
   ]
  },
  {
   "cell_type": "code",
   "execution_count": 2,
   "id": "319a8570",
   "metadata": {},
   "outputs": [],
   "source": [
    "def matrix_multiply(matA, matB):\n",
    "    \"\"\"\n",
    "    Returns the product of 2 matrics\n",
    "    i/p: The two matrices to be multipled matA(n1 x n2), matB(n3 x n4)\n",
    "    o/p: If n2 == n4: returns n1 x n4 product matrix\n",
    "         else: returns -1\n",
    "    \"\"\"\n",
    "    if matA.shape[1] != matB.shape[0]:\n",
    "        print(\"Matrix multiplication invalid\")\n",
    "        return -1\n",
    "    else:\n",
    "        result_mat = np.zeros((matA.shape[0], matB.shape[1]))\n",
    "        for i in range(matA.shape[0]):  # matA.shape[0] = number of rows\n",
    "            row = matA[i]\n",
    "            for j in range(matB.shape[1]):  # matB.shape[1] = number of columns\n",
    "                col = matB[:, j]\n",
    "                dot = 0\n",
    "                for k in range(len(row)):\n",
    "                    dot += row[k] * col[k]\n",
    "                result_mat[i][j] = dot\n",
    "        return result_mat"
   ]
  },
  {
   "cell_type": "code",
   "execution_count": 3,
   "id": "f84cb7d2",
   "metadata": {},
   "outputs": [],
   "source": [
    "def matrix_power(matA, power):\n",
    "    \"\"\"\n",
    "    Returns the input matrix raised to the power 'power'\n",
    "    i/p: Matrix matA(n1 x n2), and integer power\n",
    "    o/p: If n1 == n2 and power is an integer: Returns matA^power\n",
    "         else: returns -1\n",
    "    \"\"\"\n",
    "    if type(power) is not int:\n",
    "        print(\"Power is not a valid integer\")\n",
    "        return -1\n",
    "    result_mat = matA\n",
    "    for i in range(power - 1):\n",
    "        result_mat = matrix_multiply(result_mat, matA)\n",
    "        if type(result_mat) is int:\n",
    "            return -1\n",
    "    return result_mat"
   ]
  },
  {
   "cell_type": "markdown",
   "id": "60dbeb79",
   "metadata": {},
   "source": [
    "### Implementation"
   ]
  },
  {
   "cell_type": "code",
   "execution_count": 4,
   "id": "fb28ff07",
   "metadata": {},
   "outputs": [
    {
     "name": "stdout",
     "output_type": "stream",
     "text": [
      "matA:\n",
      " [[0 3 7]\n",
      " [4 3 4]\n",
      " [5 6 0]]\n",
      "matB:\n",
      " [[6 3 5 4 4]\n",
      " [4 7 2 5 9]\n",
      " [4 0 8 5 1]]\n"
     ]
    }
   ],
   "source": [
    "A = np.random.randint(10, size=(3, 3))\n",
    "print(f\"matA:\\n {A}\")\n",
    "B = np.random.randint(10, size=(3, 5))\n",
    "print(f\"matB:\\n {B}\")"
   ]
  },
  {
   "cell_type": "code",
   "execution_count": 5,
   "id": "b2fb1bba",
   "metadata": {
    "scrolled": true
   },
   "outputs": [
    {
     "name": "stdout",
     "output_type": "stream",
     "text": [
      "matA x matB: \n",
      "[[40. 21. 62. 50. 34.]\n",
      " [52. 33. 58. 51. 47.]\n",
      " [54. 57. 37. 50. 74.]]\n"
     ]
    }
   ],
   "source": [
    "print(f'matA x matB: \\n{matrix_multiply(A, B)}')"
   ]
  },
  {
   "cell_type": "code",
   "execution_count": 6,
   "id": "23e91b5c",
   "metadata": {},
   "outputs": [
    {
     "name": "stdout",
     "output_type": "stream",
     "text": [
      "(matA)^3: \n",
      "[[264. 366. 533.]\n",
      " [380. 471. 404.]\n",
      " [427. 525. 300.]]\n"
     ]
    }
   ],
   "source": [
    "print(f\"(matA)^3: \\n{matrix_power(A, 3)}\")"
   ]
  },
  {
   "cell_type": "markdown",
   "id": "6b9bca48",
   "metadata": {},
   "source": [
    "## Regular Markov Chain as a Matrix"
   ]
  },
  {
   "cell_type": "markdown",
   "id": "c1c6443a",
   "metadata": {},
   "source": [
    "### Creating Stochastic Matrices"
   ]
  },
  {
   "cell_type": "code",
   "execution_count": 7,
   "id": "0ff6e3e3",
   "metadata": {},
   "outputs": [],
   "source": [
    "def create_stochastic_matrix(size):\n",
    "    mat = np.zeros((size, size))\n",
    "    for i in range(size):\n",
    "        row_sum = 0\n",
    "        for j in range(size - 1):\n",
    "            mat[i][j] = np.random.uniform(0, (1 - row_sum))\n",
    "            row_sum += mat[i][j]\n",
    "        mat[i][-1] = 1 - row_sum\n",
    "    return mat"
   ]
  },
  {
   "cell_type": "markdown",
   "id": "9d661272",
   "metadata": {
    "scrolled": false
   },
   "source": [
    "### Checking Regular Matrix"
   ]
  },
  {
   "cell_type": "code",
   "execution_count": 8,
   "id": "35743bf3",
   "metadata": {},
   "outputs": [],
   "source": [
    "def check_regular_matrix(matA, iterations= 1000):\n",
    "    for i in range (1, iterations + 1):\n",
    "        mat = matrix_power(matA, i)\n",
    "        if (type(mat) == int): return -1 # matrix_power() returns -1 if error\n",
    "        mat_size = len(mat) # Matrix has to be a square\n",
    "        count = 0\n",
    "        for j in range(mat_size):\n",
    "            for k in range(mat_size):\n",
    "                if (mat[j][k] == 0): \n",
    "                    break\n",
    "                else: \n",
    "                    count += 1\n",
    "        if (count == (mat_size ** 2)): \n",
    "            print(f\"The matrix is regular, and when it is raised to power {i}, it is positive.\")\n",
    "            break\n",
    "        else:\n",
    "            print(f\"The matrix is not regular upto its {i}th power\", end = '\\r')\n",
    "    return"
   ]
  },
  {
   "cell_type": "markdown",
   "id": "ff4da225",
   "metadata": {},
   "source": [
    "### Implementation"
   ]
  },
  {
   "cell_type": "code",
   "execution_count": 9,
   "id": "12deef23",
   "metadata": {},
   "outputs": [
    {
     "name": "stdout",
     "output_type": "stream",
     "text": [
      "[[0.92996048 0.01553124 0.00520867 0.04929961]\n",
      " [0.03771373 0.56865239 0.11991142 0.27372245]\n",
      " [0.26385328 0.50121626 0.14137345 0.09355702]\n",
      " [0.90311098 0.03987813 0.05080718 0.0062037 ]]\n",
      "\n",
      "[[0.00467769 0.62530648 0.09168386 0.27833196]\n",
      " [0.43588012 0.55835611 0.00097355 0.00479022]\n",
      " [0.35907912 0.63551457 0.00451652 0.00088979]\n",
      " [0.76078916 0.08616715 0.08173247 0.07131122]]\n",
      "\n"
     ]
    }
   ],
   "source": [
    "# Debugging for validity of stochastic matrix\n",
    "# Generate two random stochastic matrices\n",
    "for i in range(2):\n",
    "    b = create_stochastic_matrix(4)\n",
    "    for i in range(4):\n",
    "        for j in range(4):\n",
    "            if (b[i][j] < 0 or b[i][j] > 1):\n",
    "                print(\"Not Valid Stochastic Matrix\")    \n",
    "    print(b)\n",
    "    print()"
   ]
  },
  {
   "cell_type": "code",
   "execution_count": 10,
   "id": "3f069b72",
   "metadata": {},
   "outputs": [
    {
     "name": "stdout",
     "output_type": "stream",
     "text": [
      "The matrix is regular, and when it is raised to power 1, it is positive.\n",
      "MatD: \n",
      "[[0.12351425 0.50276079 0.10840787 0.26531709]\n",
      " [0.8681274  0.         0.11212622 0.01974638]\n",
      " [0.55888506 0.14277434 0.15657036 0.14177024]\n",
      " [0.11016633 0.07586725 0.40404501 0.40992142]]\n",
      "The matrix is not regular upto its 1th power\r",
      "The matrix is regular, and when it is raised to power 2, it is positive.\n",
      "The matrix is not regular upto its 1th power\r",
      "The matrix is not regular upto its 2th power\r",
      "The matrix is not regular upto its 3th power\r",
      "The matrix is regular, and when it is raised to power 4, it is positive.\n"
     ]
    }
   ],
   "source": [
    "check_regular_matrix(b)\n",
    "D = np.array([[0.12351425, 0.50276079, 0.10840787, 0.26531709],\n",
    "                 [0.8681274, 0., 0.11212622, 0.01974638],\n",
    "                 [0.55888506, 0.14277434, 0.15657036, 0.14177024],\n",
    "                 [0.11016633, 0.07586725, 0.40404501, 0.40992142]])\n",
    "print(f'MatD: \\n{D}')\n",
    "check_regular_matrix(D)\n",
    "E = np.array([0, 0.5, 0.5, 9.5, 0, 0.5, 0, 1, 0]).reshape(3, -1)\n",
    "check_regular_matrix(E)"
   ]
  },
  {
   "cell_type": "code",
   "execution_count": 11,
   "id": "eb255068",
   "metadata": {
    "scrolled": false
   },
   "outputs": [
    {
     "name": "stdout",
     "output_type": "stream",
     "text": [
      "MatC: \n",
      "[[0.7 0.  0.3]\n",
      " [0.  1.  0. ]\n",
      " [0.2 0.  0.8]]\n",
      "The matrix is not regular upto its 1000th power\r"
     ]
    }
   ],
   "source": [
    "F = np.array([[0.7, 0, 0.3], [0, 1, 0], [0.2, 0, 0.8]]).reshape(3, -1)\n",
    "print(f\"MatC: \\n{F}\")\n",
    "check_regular_matrix(F, 1000)"
   ]
  },
  {
   "cell_type": "markdown",
   "id": "409b2c13",
   "metadata": {},
   "source": [
    "## Null Space of a Matrix\n",
    "The null space of a matrix A is the same as the null space for its row reduced echelon form (rref(A))."
   ]
  },
  {
   "cell_type": "code",
   "execution_count": 12,
   "id": "7d548610",
   "metadata": {},
   "outputs": [],
   "source": [
    "def rref(matA):\n",
    "    rref = matA.copy()\n",
    "    pivot = 0\n",
    "    rows = len(rref)\n",
    "    cols = len(rref[0])\n",
    "    rank = 0\n",
    "    for r in range(rows):\n",
    "        if (cols < pivot):\n",
    "            break\n",
    "        i = r\n",
    "        while (rref[i, pivot] == 0):\n",
    "            i += 1\n",
    "            if (rows == 1):\n",
    "                i = r\n",
    "                pivot += 1\n",
    "                if (cols == pivot):\n",
    "                    break\n",
    "        vec = rref[i]\n",
    "        rref[i] = rref[r]\n",
    "        rref[r] = vec\n",
    "        if (rref[r][pivot] != 0):\n",
    "            rref[r] = rref[r] / rref[r][pivot]\n",
    "        for i in range(rows):\n",
    "            if (i != r):\n",
    "                rref[i] -= (rref[r]*rref[i][pivot]) \n",
    "        pivot += 1\n",
    "    for row in range(rows):\n",
    "        for col in range(cols):\n",
    "            if (rref[row][col] != 0):\n",
    "                rank += 1\n",
    "                break\n",
    "                \n",
    "    return rref, rank"
   ]
  },
  {
   "cell_type": "code",
   "execution_count": 13,
   "id": "14f25382",
   "metadata": {
    "scrolled": false
   },
   "outputs": [
    {
     "name": "stdout",
     "output_type": "stream",
     "text": [
      "matF: \n",
      "[[  1   2  -1  -4]\n",
      " [  2   3  -1 -11]\n",
      " [ -2   0  -3  22]]\n",
      "rref(E): \n",
      "[[ 1  0  0 -8]\n",
      " [ 0  1  0  1]\n",
      " [ 0  0  1 -2]]\n",
      "sympy.rref(): \n",
      "[[1 0 0 -8]\n",
      " [0 1 0 1]\n",
      " [0 0 1 -2]]\n"
     ]
    }
   ],
   "source": [
    "G = np.array([1, 2, -1, -4, 2, 3, -1, -11, -2, 0, -3, 22]).reshape(3, -1)\n",
    "print(f'matF: \\n{G}')\n",
    "rref_g, r = rref(G)\n",
    "print(f\"rref(E): \\n{rref_g}\")\n",
    "G = sp.Matrix(G)\n",
    "print (f\"sympy.rref(): \\n{np.array(G.rref()[0])}\")"
   ]
  },
  {
   "cell_type": "code",
   "execution_count": 14,
   "id": "a9995ce0",
   "metadata": {
    "scrolled": true
   },
   "outputs": [
    {
     "name": "stdout",
     "output_type": "stream",
     "text": [
      "matH:\n",
      "[[ 1  0  1  3]\n",
      " [ 2  3  4  7]\n",
      " [-1 -3 -3 -4]]\n",
      "H.nullspace(): \n",
      "[[-1]\n",
      " [-2/3]\n",
      " [1]\n",
      " [0]]\n",
      "[[-3]\n",
      " [-1/3]\n",
      " [0]\n",
      " [1]]\n"
     ]
    }
   ],
   "source": [
    "H = np.array([[1, 0, 1, 3], [2, 3, 4, 7], [-1, -3, -3, -4]]).reshape(3, -1)\n",
    "print(f\"matH:\\n{H}\")\n",
    "H = sp.Matrix(H)\n",
    "null_space = [np.array(mat) for mat in H.nullspace()]\n",
    "print(\"H.nullspace(): \")\n",
    "null_space = [print(f'{mat}') for mat in null_space]"
   ]
  }
 ],
 "metadata": {
  "kernelspec": {
   "display_name": "Python 3 (ipykernel)",
   "language": "python",
   "name": "python3"
  },
  "language_info": {
   "codemirror_mode": {
    "name": "ipython",
    "version": 3
   },
   "file_extension": ".py",
   "mimetype": "text/x-python",
   "name": "python",
   "nbconvert_exporter": "python",
   "pygments_lexer": "ipython3",
   "version": "3.8.12"
  }
 },
 "nbformat": 4,
 "nbformat_minor": 5
}
